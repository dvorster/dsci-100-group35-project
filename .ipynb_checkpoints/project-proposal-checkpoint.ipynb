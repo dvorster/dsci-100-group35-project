{
 "cells": [
  {
   "cell_type": "markdown",
   "metadata": {},
   "source": [
    "#####  Project Proposal Group 35\n",
    "\n",
    "# Classifying the Presence or Absence of the European Tree Frog due to  Environmental Factors in Poland\n",
    "\n",
    "\n",
    "## Introduction\n",
    "\n",
    "The European Tree Frog (*Hyla arborea*) is a common amphibian species found throughout Europe, including Poland. The presence or absence of amphibian species, including the European Tree Frog, have been limited by several environmental factors: the number and type of water resevoirs, the use of each water resevoir, the presence of vegetation and fishing, and how well maintained the water resevoirs are.\n",
    "\n",
    "**Question:** The question we will attempt to answer with our project is: can we use environmental factors to predict the presence or absence of tree frogs in a given area?\n",
    "\n",
    "**Dataset:** The dataset that will be used to answer the aforementioned question is titled amphibians.csv, and was taken from the UCI Machine Learning Repository. The data was originally gathered from an environmental impact assessement in Poland for the preparation of two upcoming road projects.\n",
    "\n",
    "## Preliminary Exploratory data Analysis\n",
    "\n",
    "Below we demonstrate that the full data set can be read into R."
   ]
  },
  {
   "cell_type": "code",
   "execution_count": 1,
   "metadata": {},
   "outputs": [
    {
     "name": "stderr",
     "output_type": "stream",
     "text": [
      "── \u001b[1mAttaching packages\u001b[22m ─────────────────────────────────────── tidyverse 1.3.0 ──\n",
      "\n",
      "\u001b[32m✔\u001b[39m \u001b[34mggplot2\u001b[39m 3.3.2     \u001b[32m✔\u001b[39m \u001b[34mpurrr  \u001b[39m 0.3.4\n",
      "\u001b[32m✔\u001b[39m \u001b[34mtibble \u001b[39m 3.0.3     \u001b[32m✔\u001b[39m \u001b[34mdplyr  \u001b[39m 1.0.2\n",
      "\u001b[32m✔\u001b[39m \u001b[34mtidyr  \u001b[39m 1.1.1     \u001b[32m✔\u001b[39m \u001b[34mstringr\u001b[39m 1.4.0\n",
      "\u001b[32m✔\u001b[39m \u001b[34mreadr  \u001b[39m 1.3.1     \u001b[32m✔\u001b[39m \u001b[34mforcats\u001b[39m 0.5.0\n",
      "\n",
      "Warning message:\n",
      "“package ‘ggplot2’ was built under R version 4.0.1”\n",
      "Warning message:\n",
      "“package ‘tibble’ was built under R version 4.0.2”\n",
      "Warning message:\n",
      "“package ‘tidyr’ was built under R version 4.0.2”\n",
      "Warning message:\n",
      "“package ‘dplyr’ was built under R version 4.0.2”\n",
      "── \u001b[1mConflicts\u001b[22m ────────────────────────────────────────── tidyverse_conflicts() ──\n",
      "\u001b[31m✖\u001b[39m \u001b[34mdplyr\u001b[39m::\u001b[32mfilter()\u001b[39m masks \u001b[34mstats\u001b[39m::filter()\n",
      "\u001b[31m✖\u001b[39m \u001b[34mdplyr\u001b[39m::\u001b[32mlag()\u001b[39m    masks \u001b[34mstats\u001b[39m::lag()\n",
      "\n"
     ]
    }
   ],
   "source": [
    "library(tidyverse)"
   ]
  },
  {
   "cell_type": "code",
   "execution_count": 9,
   "metadata": {},
   "outputs": [
    {
     "name": "stderr",
     "output_type": "stream",
     "text": [
      "Parsed with column specification:\n",
      "cols(\n",
      "  .default = col_double(),\n",
      "  Motorway = \u001b[31mcol_character()\u001b[39m\n",
      ")\n",
      "\n",
      "See spec(...) for full column specifications.\n",
      "\n"
     ]
    }
   ],
   "source": [
    "amphibians <- read_delim(\"data/amphibians.csv\", delim = \";\", skip = 1)"
   ]
  },
  {
   "cell_type": "code",
   "execution_count": 10,
   "metadata": {},
   "outputs": [
    {
     "data": {
      "text/html": [
       "<table>\n",
       "<caption>A tibble: 6 × 23</caption>\n",
       "<thead>\n",
       "\t<tr><th scope=col>ID</th><th scope=col>Motorway</th><th scope=col>SR</th><th scope=col>NR</th><th scope=col>TR</th><th scope=col>VR</th><th scope=col>SUR1</th><th scope=col>SUR2</th><th scope=col>SUR3</th><th scope=col>UR</th><th scope=col>⋯</th><th scope=col>BR</th><th scope=col>MR</th><th scope=col>CR</th><th scope=col>Green frogs</th><th scope=col>Brown frogs</th><th scope=col>Common toad</th><th scope=col>Fire-bellied toad</th><th scope=col>Tree frog</th><th scope=col>Common newt</th><th scope=col>Great crested newt</th></tr>\n",
       "\t<tr><th scope=col>&lt;dbl&gt;</th><th scope=col>&lt;chr&gt;</th><th scope=col>&lt;dbl&gt;</th><th scope=col>&lt;dbl&gt;</th><th scope=col>&lt;dbl&gt;</th><th scope=col>&lt;dbl&gt;</th><th scope=col>&lt;dbl&gt;</th><th scope=col>&lt;dbl&gt;</th><th scope=col>&lt;dbl&gt;</th><th scope=col>&lt;dbl&gt;</th><th scope=col>⋯</th><th scope=col>&lt;dbl&gt;</th><th scope=col>&lt;dbl&gt;</th><th scope=col>&lt;dbl&gt;</th><th scope=col>&lt;dbl&gt;</th><th scope=col>&lt;dbl&gt;</th><th scope=col>&lt;dbl&gt;</th><th scope=col>&lt;dbl&gt;</th><th scope=col>&lt;dbl&gt;</th><th scope=col>&lt;dbl&gt;</th><th scope=col>&lt;dbl&gt;</th></tr>\n",
       "</thead>\n",
       "<tbody>\n",
       "\t<tr><td>1</td><td>A1</td><td>600</td><td>1</td><td>1</td><td>4</td><td> 6</td><td> 2</td><td>10</td><td>0</td><td>⋯</td><td>0</td><td>0</td><td>1</td><td>0</td><td>0</td><td>0</td><td>0</td><td>0</td><td>0</td><td>0</td></tr>\n",
       "\t<tr><td>2</td><td>A1</td><td>700</td><td>1</td><td>5</td><td>1</td><td>10</td><td> 6</td><td>10</td><td>3</td><td>⋯</td><td>1</td><td>0</td><td>1</td><td>0</td><td>1</td><td>1</td><td>0</td><td>0</td><td>1</td><td>0</td></tr>\n",
       "\t<tr><td>3</td><td>A1</td><td>200</td><td>1</td><td>5</td><td>1</td><td>10</td><td> 6</td><td>10</td><td>3</td><td>⋯</td><td>1</td><td>0</td><td>1</td><td>0</td><td>1</td><td>1</td><td>0</td><td>0</td><td>1</td><td>0</td></tr>\n",
       "\t<tr><td>4</td><td>A1</td><td>300</td><td>1</td><td>5</td><td>0</td><td> 6</td><td>10</td><td> 2</td><td>3</td><td>⋯</td><td>0</td><td>0</td><td>1</td><td>0</td><td>0</td><td>1</td><td>0</td><td>0</td><td>0</td><td>0</td></tr>\n",
       "\t<tr><td>5</td><td>A1</td><td>600</td><td>2</td><td>1</td><td>4</td><td>10</td><td> 2</td><td> 6</td><td>0</td><td>⋯</td><td>5</td><td>0</td><td>1</td><td>0</td><td>1</td><td>1</td><td>1</td><td>0</td><td>1</td><td>1</td></tr>\n",
       "\t<tr><td>6</td><td>A1</td><td>200</td><td>1</td><td>5</td><td>1</td><td> 6</td><td> 6</td><td>10</td><td>1</td><td>⋯</td><td>0</td><td>0</td><td>1</td><td>0</td><td>0</td><td>0</td><td>0</td><td>0</td><td>0</td><td>0</td></tr>\n",
       "</tbody>\n",
       "</table>\n"
      ],
      "text/latex": [
       "A tibble: 6 × 23\n",
       "\\begin{tabular}{lllllllllllllllllllll}\n",
       " ID & Motorway & SR & NR & TR & VR & SUR1 & SUR2 & SUR3 & UR & ⋯ & BR & MR & CR & Green frogs & Brown frogs & Common toad & Fire-bellied toad & Tree frog & Common newt & Great crested newt\\\\\n",
       " <dbl> & <chr> & <dbl> & <dbl> & <dbl> & <dbl> & <dbl> & <dbl> & <dbl> & <dbl> & ⋯ & <dbl> & <dbl> & <dbl> & <dbl> & <dbl> & <dbl> & <dbl> & <dbl> & <dbl> & <dbl>\\\\\n",
       "\\hline\n",
       "\t 1 & A1 & 600 & 1 & 1 & 4 &  6 &  2 & 10 & 0 & ⋯ & 0 & 0 & 1 & 0 & 0 & 0 & 0 & 0 & 0 & 0\\\\\n",
       "\t 2 & A1 & 700 & 1 & 5 & 1 & 10 &  6 & 10 & 3 & ⋯ & 1 & 0 & 1 & 0 & 1 & 1 & 0 & 0 & 1 & 0\\\\\n",
       "\t 3 & A1 & 200 & 1 & 5 & 1 & 10 &  6 & 10 & 3 & ⋯ & 1 & 0 & 1 & 0 & 1 & 1 & 0 & 0 & 1 & 0\\\\\n",
       "\t 4 & A1 & 300 & 1 & 5 & 0 &  6 & 10 &  2 & 3 & ⋯ & 0 & 0 & 1 & 0 & 0 & 1 & 0 & 0 & 0 & 0\\\\\n",
       "\t 5 & A1 & 600 & 2 & 1 & 4 & 10 &  2 &  6 & 0 & ⋯ & 5 & 0 & 1 & 0 & 1 & 1 & 1 & 0 & 1 & 1\\\\\n",
       "\t 6 & A1 & 200 & 1 & 5 & 1 &  6 &  6 & 10 & 1 & ⋯ & 0 & 0 & 1 & 0 & 0 & 0 & 0 & 0 & 0 & 0\\\\\n",
       "\\end{tabular}\n"
      ],
      "text/markdown": [
       "\n",
       "A tibble: 6 × 23\n",
       "\n",
       "| ID &lt;dbl&gt; | Motorway &lt;chr&gt; | SR &lt;dbl&gt; | NR &lt;dbl&gt; | TR &lt;dbl&gt; | VR &lt;dbl&gt; | SUR1 &lt;dbl&gt; | SUR2 &lt;dbl&gt; | SUR3 &lt;dbl&gt; | UR &lt;dbl&gt; | ⋯ ⋯ | BR &lt;dbl&gt; | MR &lt;dbl&gt; | CR &lt;dbl&gt; | Green frogs &lt;dbl&gt; | Brown frogs &lt;dbl&gt; | Common toad &lt;dbl&gt; | Fire-bellied toad &lt;dbl&gt; | Tree frog &lt;dbl&gt; | Common newt &lt;dbl&gt; | Great crested newt &lt;dbl&gt; |\n",
       "|---|---|---|---|---|---|---|---|---|---|---|---|---|---|---|---|---|---|---|---|---|\n",
       "| 1 | A1 | 600 | 1 | 1 | 4 |  6 |  2 | 10 | 0 | ⋯ | 0 | 0 | 1 | 0 | 0 | 0 | 0 | 0 | 0 | 0 |\n",
       "| 2 | A1 | 700 | 1 | 5 | 1 | 10 |  6 | 10 | 3 | ⋯ | 1 | 0 | 1 | 0 | 1 | 1 | 0 | 0 | 1 | 0 |\n",
       "| 3 | A1 | 200 | 1 | 5 | 1 | 10 |  6 | 10 | 3 | ⋯ | 1 | 0 | 1 | 0 | 1 | 1 | 0 | 0 | 1 | 0 |\n",
       "| 4 | A1 | 300 | 1 | 5 | 0 |  6 | 10 |  2 | 3 | ⋯ | 0 | 0 | 1 | 0 | 0 | 1 | 0 | 0 | 0 | 0 |\n",
       "| 5 | A1 | 600 | 2 | 1 | 4 | 10 |  2 |  6 | 0 | ⋯ | 5 | 0 | 1 | 0 | 1 | 1 | 1 | 0 | 1 | 1 |\n",
       "| 6 | A1 | 200 | 1 | 5 | 1 |  6 |  6 | 10 | 1 | ⋯ | 0 | 0 | 1 | 0 | 0 | 0 | 0 | 0 | 0 | 0 |\n",
       "\n"
      ],
      "text/plain": [
       "  ID Motorway SR  NR TR VR SUR1 SUR2 SUR3 UR ⋯ BR MR CR Green frogs Brown frogs\n",
       "1 1  A1       600 1  1  4   6    2   10   0  ⋯ 0  0  1  0           0          \n",
       "2 2  A1       700 1  5  1  10    6   10   3  ⋯ 1  0  1  0           1          \n",
       "3 3  A1       200 1  5  1  10    6   10   3  ⋯ 1  0  1  0           1          \n",
       "4 4  A1       300 1  5  0   6   10    2   3  ⋯ 0  0  1  0           0          \n",
       "5 5  A1       600 2  1  4  10    2    6   0  ⋯ 5  0  1  0           1          \n",
       "6 6  A1       200 1  5  1   6    6   10   1  ⋯ 0  0  1  0           0          \n",
       "  Common toad Fire-bellied toad Tree frog Common newt Great crested newt\n",
       "1 0           0                 0         0           0                 \n",
       "2 1           0                 0         1           0                 \n",
       "3 1           0                 0         1           0                 \n",
       "4 1           0                 0         0           0                 \n",
       "5 1           1                 0         1           1                 \n",
       "6 0           0                 0         0           0                 "
      ]
     },
     "metadata": {},
     "output_type": "display_data"
    }
   ],
   "source": [
    "head(amphibians)"
   ]
  },
  {
   "cell_type": "code",
   "execution_count": 11,
   "metadata": {},
   "outputs": [
    {
     "data": {
      "text/html": [
       "<table>\n",
       "<caption>A tibble: 6 × 23</caption>\n",
       "<thead>\n",
       "\t<tr><th scope=col>ID</th><th scope=col>Motorway</th><th scope=col>SR</th><th scope=col>NR</th><th scope=col>TR</th><th scope=col>VR</th><th scope=col>SUR1</th><th scope=col>SUR2</th><th scope=col>SUR3</th><th scope=col>UR</th><th scope=col>⋯</th><th scope=col>BR</th><th scope=col>MR</th><th scope=col>CR</th><th scope=col>Green frogs</th><th scope=col>Brown frogs</th><th scope=col>Common toad</th><th scope=col>Fire-bellied toad</th><th scope=col>Tree frog</th><th scope=col>Common newt</th><th scope=col>Great crested newt</th></tr>\n",
       "\t<tr><th scope=col>&lt;dbl&gt;</th><th scope=col>&lt;chr&gt;</th><th scope=col>&lt;dbl&gt;</th><th scope=col>&lt;dbl&gt;</th><th scope=col>&lt;dbl&gt;</th><th scope=col>&lt;dbl&gt;</th><th scope=col>&lt;dbl&gt;</th><th scope=col>&lt;dbl&gt;</th><th scope=col>&lt;dbl&gt;</th><th scope=col>&lt;dbl&gt;</th><th scope=col>⋯</th><th scope=col>&lt;dbl&gt;</th><th scope=col>&lt;dbl&gt;</th><th scope=col>&lt;dbl&gt;</th><th scope=col>&lt;dbl&gt;</th><th scope=col>&lt;dbl&gt;</th><th scope=col>&lt;dbl&gt;</th><th scope=col>&lt;dbl&gt;</th><th scope=col>&lt;dbl&gt;</th><th scope=col>&lt;dbl&gt;</th><th scope=col>&lt;dbl&gt;</th></tr>\n",
       "</thead>\n",
       "<tbody>\n",
       "\t<tr><td>184</td><td>S52</td><td>4000</td><td>1</td><td>12</td><td>4</td><td>2</td><td> 6</td><td>10</td><td>0</td><td>⋯</td><td>1</td><td>0</td><td>1</td><td>0</td><td>1</td><td>1</td><td>0</td><td>0</td><td>0</td><td>0</td></tr>\n",
       "\t<tr><td>185</td><td>S52</td><td>2300</td><td>1</td><td>12</td><td>3</td><td>2</td><td> 2</td><td> 1</td><td>0</td><td>⋯</td><td>1</td><td>0</td><td>1</td><td>0</td><td>1</td><td>0</td><td>0</td><td>0</td><td>0</td><td>0</td></tr>\n",
       "\t<tr><td>186</td><td>S52</td><td> 300</td><td>1</td><td>14</td><td>2</td><td>7</td><td>10</td><td> 2</td><td>0</td><td>⋯</td><td>5</td><td>0</td><td>1</td><td>1</td><td>1</td><td>1</td><td>1</td><td>0</td><td>1</td><td>0</td></tr>\n",
       "\t<tr><td>187</td><td>S52</td><td> 500</td><td>1</td><td> 1</td><td>4</td><td>1</td><td>10</td><td> 2</td><td>0</td><td>⋯</td><td>5</td><td>0</td><td>1</td><td>1</td><td>1</td><td>1</td><td>1</td><td>0</td><td>1</td><td>0</td></tr>\n",
       "\t<tr><td>188</td><td>S52</td><td> 300</td><td>1</td><td>12</td><td>3</td><td>2</td><td> 1</td><td> 6</td><td>0</td><td>⋯</td><td>0</td><td>0</td><td>1</td><td>0</td><td>1</td><td>1</td><td>0</td><td>0</td><td>0</td><td>0</td></tr>\n",
       "\t<tr><td>189</td><td>S52</td><td> 300</td><td>1</td><td>12</td><td>3</td><td>2</td><td> 6</td><td>10</td><td>0</td><td>⋯</td><td>1</td><td>0</td><td>1</td><td>0</td><td>1</td><td>1</td><td>0</td><td>0</td><td>0</td><td>0</td></tr>\n",
       "</tbody>\n",
       "</table>\n"
      ],
      "text/latex": [
       "A tibble: 6 × 23\n",
       "\\begin{tabular}{lllllllllllllllllllll}\n",
       " ID & Motorway & SR & NR & TR & VR & SUR1 & SUR2 & SUR3 & UR & ⋯ & BR & MR & CR & Green frogs & Brown frogs & Common toad & Fire-bellied toad & Tree frog & Common newt & Great crested newt\\\\\n",
       " <dbl> & <chr> & <dbl> & <dbl> & <dbl> & <dbl> & <dbl> & <dbl> & <dbl> & <dbl> & ⋯ & <dbl> & <dbl> & <dbl> & <dbl> & <dbl> & <dbl> & <dbl> & <dbl> & <dbl> & <dbl>\\\\\n",
       "\\hline\n",
       "\t 184 & S52 & 4000 & 1 & 12 & 4 & 2 &  6 & 10 & 0 & ⋯ & 1 & 0 & 1 & 0 & 1 & 1 & 0 & 0 & 0 & 0\\\\\n",
       "\t 185 & S52 & 2300 & 1 & 12 & 3 & 2 &  2 &  1 & 0 & ⋯ & 1 & 0 & 1 & 0 & 1 & 0 & 0 & 0 & 0 & 0\\\\\n",
       "\t 186 & S52 &  300 & 1 & 14 & 2 & 7 & 10 &  2 & 0 & ⋯ & 5 & 0 & 1 & 1 & 1 & 1 & 1 & 0 & 1 & 0\\\\\n",
       "\t 187 & S52 &  500 & 1 &  1 & 4 & 1 & 10 &  2 & 0 & ⋯ & 5 & 0 & 1 & 1 & 1 & 1 & 1 & 0 & 1 & 0\\\\\n",
       "\t 188 & S52 &  300 & 1 & 12 & 3 & 2 &  1 &  6 & 0 & ⋯ & 0 & 0 & 1 & 0 & 1 & 1 & 0 & 0 & 0 & 0\\\\\n",
       "\t 189 & S52 &  300 & 1 & 12 & 3 & 2 &  6 & 10 & 0 & ⋯ & 1 & 0 & 1 & 0 & 1 & 1 & 0 & 0 & 0 & 0\\\\\n",
       "\\end{tabular}\n"
      ],
      "text/markdown": [
       "\n",
       "A tibble: 6 × 23\n",
       "\n",
       "| ID &lt;dbl&gt; | Motorway &lt;chr&gt; | SR &lt;dbl&gt; | NR &lt;dbl&gt; | TR &lt;dbl&gt; | VR &lt;dbl&gt; | SUR1 &lt;dbl&gt; | SUR2 &lt;dbl&gt; | SUR3 &lt;dbl&gt; | UR &lt;dbl&gt; | ⋯ ⋯ | BR &lt;dbl&gt; | MR &lt;dbl&gt; | CR &lt;dbl&gt; | Green frogs &lt;dbl&gt; | Brown frogs &lt;dbl&gt; | Common toad &lt;dbl&gt; | Fire-bellied toad &lt;dbl&gt; | Tree frog &lt;dbl&gt; | Common newt &lt;dbl&gt; | Great crested newt &lt;dbl&gt; |\n",
       "|---|---|---|---|---|---|---|---|---|---|---|---|---|---|---|---|---|---|---|---|---|\n",
       "| 184 | S52 | 4000 | 1 | 12 | 4 | 2 |  6 | 10 | 0 | ⋯ | 1 | 0 | 1 | 0 | 1 | 1 | 0 | 0 | 0 | 0 |\n",
       "| 185 | S52 | 2300 | 1 | 12 | 3 | 2 |  2 |  1 | 0 | ⋯ | 1 | 0 | 1 | 0 | 1 | 0 | 0 | 0 | 0 | 0 |\n",
       "| 186 | S52 |  300 | 1 | 14 | 2 | 7 | 10 |  2 | 0 | ⋯ | 5 | 0 | 1 | 1 | 1 | 1 | 1 | 0 | 1 | 0 |\n",
       "| 187 | S52 |  500 | 1 |  1 | 4 | 1 | 10 |  2 | 0 | ⋯ | 5 | 0 | 1 | 1 | 1 | 1 | 1 | 0 | 1 | 0 |\n",
       "| 188 | S52 |  300 | 1 | 12 | 3 | 2 |  1 |  6 | 0 | ⋯ | 0 | 0 | 1 | 0 | 1 | 1 | 0 | 0 | 0 | 0 |\n",
       "| 189 | S52 |  300 | 1 | 12 | 3 | 2 |  6 | 10 | 0 | ⋯ | 1 | 0 | 1 | 0 | 1 | 1 | 0 | 0 | 0 | 0 |\n",
       "\n"
      ],
      "text/plain": [
       "  ID  Motorway SR   NR TR VR SUR1 SUR2 SUR3 UR ⋯ BR MR CR Green frogs\n",
       "1 184 S52      4000 1  12 4  2     6   10   0  ⋯ 1  0  1  0          \n",
       "2 185 S52      2300 1  12 3  2     2    1   0  ⋯ 1  0  1  0          \n",
       "3 186 S52       300 1  14 2  7    10    2   0  ⋯ 5  0  1  1          \n",
       "4 187 S52       500 1   1 4  1    10    2   0  ⋯ 5  0  1  1          \n",
       "5 188 S52       300 1  12 3  2     1    6   0  ⋯ 0  0  1  0          \n",
       "6 189 S52       300 1  12 3  2     6   10   0  ⋯ 1  0  1  0          \n",
       "  Brown frogs Common toad Fire-bellied toad Tree frog Common newt\n",
       "1 1           1           0                 0         0          \n",
       "2 1           0           0                 0         0          \n",
       "3 1           1           1                 0         1          \n",
       "4 1           1           1                 0         1          \n",
       "5 1           1           0                 0         0          \n",
       "6 1           1           0                 0         0          \n",
       "  Great crested newt\n",
       "1 0                 \n",
       "2 0                 \n",
       "3 0                 \n",
       "4 0                 \n",
       "5 0                 \n",
       "6 0                 "
      ]
     },
     "metadata": {},
     "output_type": "display_data"
    }
   ],
   "source": [
    "tail(amphibians)"
   ]
  },
  {
   "cell_type": "code",
   "execution_count": 12,
   "metadata": {},
   "outputs": [
    {
     "name": "stdout",
     "output_type": "stream",
     "text": [
      "Rows: 189\n",
      "Columns: 23\n",
      "$ ID                   \u001b[3m\u001b[90m<dbl>\u001b[39m\u001b[23m 1, 2, 3, 4, 5, 6, 7, 8, 9, 10, 11, 12, 13, 14, 1…\n",
      "$ Motorway             \u001b[3m\u001b[90m<chr>\u001b[39m\u001b[23m \"A1\", \"A1\", \"A1\", \"A1\", \"A1\", \"A1\", \"A1\", \"A1\", …\n",
      "$ SR                   \u001b[3m\u001b[90m<dbl>\u001b[39m\u001b[23m 600, 700, 200, 300, 600, 200, 500, 700, 750, 200…\n",
      "$ NR                   \u001b[3m\u001b[90m<dbl>\u001b[39m\u001b[23m 1, 1, 1, 1, 2, 1, 1, 1, 2, 1, 1, 1, 1, 1, 1, 1, …\n",
      "$ TR                   \u001b[3m\u001b[90m<dbl>\u001b[39m\u001b[23m 1, 5, 5, 5, 1, 5, 5, 5, 5, 12, 1, 14, 1, 1, 1, 1…\n",
      "$ VR                   \u001b[3m\u001b[90m<dbl>\u001b[39m\u001b[23m 4, 1, 1, 0, 4, 1, 0, 2, 1, 4, 4, 2, 1, 1, 3, 3, …\n",
      "$ SUR1                 \u001b[3m\u001b[90m<dbl>\u001b[39m\u001b[23m 6, 10, 10, 6, 10, 6, 6, 10, 6, 2, 2, 1, 2, 2, 2,…\n",
      "$ SUR2                 \u001b[3m\u001b[90m<dbl>\u001b[39m\u001b[23m 2, 6, 6, 10, 2, 6, 6, 6, 1, 7, 7, 2, 6, 6, 10, 1…\n",
      "$ SUR3                 \u001b[3m\u001b[90m<dbl>\u001b[39m\u001b[23m 10, 10, 10, 2, 6, 10, 10, 9, 2, 6, 1, 7, 10, 10,…\n",
      "$ UR                   \u001b[3m\u001b[90m<dbl>\u001b[39m\u001b[23m 0, 3, 3, 3, 0, 1, 1, 0, 0, 0, 0, 0, 3, 0, 0, 0, …\n",
      "$ FR                   \u001b[3m\u001b[90m<dbl>\u001b[39m\u001b[23m 0, 1, 4, 4, 0, 0, 2, 0, 1, 0, 0, 0, 3, 1, 0, 0, …\n",
      "$ OR                   \u001b[3m\u001b[90m<dbl>\u001b[39m\u001b[23m 50, 75, 75, 25, 99, 50, 25, 100, 50, 75, 100, 10…\n",
      "$ RR                   \u001b[3m\u001b[90m<dbl>\u001b[39m\u001b[23m 0, 1, 1, 0, 0, 0, 0, 1, 1, 1, 2, 2, 1, 2, 9, 2, …\n",
      "$ BR                   \u001b[3m\u001b[90m<dbl>\u001b[39m\u001b[23m 0, 1, 1, 0, 5, 0, 0, 1, 0, 0, 1, 1, 5, 2, 9, 10,…\n",
      "$ MR                   \u001b[3m\u001b[90m<dbl>\u001b[39m\u001b[23m 0, 0, 0, 0, 0, 0, 0, 0, 0, 0, 0, 0, 0, 2, 0, 0, …\n",
      "$ CR                   \u001b[3m\u001b[90m<dbl>\u001b[39m\u001b[23m 1, 1, 1, 1, 1, 1, 2, 1, 1, 1, 1, 1, 1, 1, 1, 1, …\n",
      "$ `Green frogs`        \u001b[3m\u001b[90m<dbl>\u001b[39m\u001b[23m 0, 0, 0, 0, 0, 0, 0, 1, 0, 0, 1, 0, 1, 1, 0, 1, …\n",
      "$ `Brown frogs`        \u001b[3m\u001b[90m<dbl>\u001b[39m\u001b[23m 0, 1, 1, 0, 1, 0, 0, 1, 1, 1, 0, 1, 0, 1, 1, 1, …\n",
      "$ `Common toad`        \u001b[3m\u001b[90m<dbl>\u001b[39m\u001b[23m 0, 1, 1, 1, 1, 0, 1, 0, 1, 1, 0, 1, 1, 1, 1, 1, …\n",
      "$ `Fire-bellied toad`  \u001b[3m\u001b[90m<dbl>\u001b[39m\u001b[23m 0, 0, 0, 0, 1, 0, 0, 1, 0, 0, 0, 0, 0, 0, 0, 1, …\n",
      "$ `Tree frog`          \u001b[3m\u001b[90m<dbl>\u001b[39m\u001b[23m 0, 0, 0, 0, 0, 0, 0, 0, 0, 0, 0, 0, 0, 0, 0, 1, …\n",
      "$ `Common newt`        \u001b[3m\u001b[90m<dbl>\u001b[39m\u001b[23m 0, 1, 1, 0, 1, 0, 0, 0, 0, 0, 0, 0, 0, 0, 0, 0, …\n",
      "$ `Great crested newt` \u001b[3m\u001b[90m<dbl>\u001b[39m\u001b[23m 0, 0, 0, 0, 1, 0, 0, 0, 0, 0, 0, 0, 0, 0, 0, 0, …\n"
     ]
    }
   ],
   "source": [
    "glimpse(amphibians)"
   ]
  },
  {
   "cell_type": "markdown",
   "metadata": {},
   "source": [
    "Our finalized training set will have 7 variables (columns), with six of them as our predictors and the seventh being our classification variable, the presence or absence of the European Tree Frog. The six predictors, despite being all categorical, will be represented by numerical values that correspond to a certain variable type. We will summarize this training set in a table which displays the number of times we observe each of these variable types for a given predictor.\n",
    "\n",
    "To visualize this we will create a bar chart to look at the frequency of each of the predictors. Count will be shown on the y-axis and will be plotted against the six predictors on the x-axis.\n",
    "\n",
    "## Methods\n",
    "\n",
    "Not much data wrangling will be needed in order to conduct the analysis as the dataset is already in a tidy csv format. However, certain columns will need to beremoved from the data set as they are not directly relevant to the question being asked. The columns that will be removed are ID, SR, SUR1/2/3, OR, RR, BR, CR, green frogs, brown frogs, common toad, fire-bellied toad, common newt, and great crested newt.\n",
    "\n",
    "We will conduct our data anaysis using a K nearest neighbours classifier with variables NR, TR, UR, VR, FR, MR as predictors. We will spilt our data set into a training set and a testing set and use the training set and cross validation to train our classifier and tune for an optimal K value. We will then apply this classifier to a test subset of our data to determine its accuracy. This accuracy measurment will represent our ability to predict the presence or absence of European Tree Frogs in a given area using environmental factors.\n",
    "\n",
    "One way we will visualize our results is with one grand bar chart. Count will be shown on the y-axis, and will be plotted against the six predictors on the x-axis. Color will be used to denote the presence or absence of the European Tree Frog for each of the predictors. We will also include a stacked column bar chart comparing the result of our predictions versus the true presence or absence of European Tree Frogs.\n",
    "\n",
    "## Expected Outcomes and Significance\n",
    "\n",
    "By the end of our analysis, we expect to be able to determine how each environmental factor impacts the presence of the European Tree Frog. We predict that with a given set of the environmental factors we used as predictors, we will be able to classify the presence or absence of European Tree Frogs with a fairly high degree of accuracy.\n",
    "\n",
    "These finding could greatly help in environmental impact assessments towards the consideration and planning of future infastructure projects in Poland.\n",
    "\n",
    "Further questions this could lead to include determining which predictor has the most significant impact of the presence of the tree frog, as well as whether our finding could yield simillar results for other species of amphibians."
   ]
  },
  {
   "cell_type": "code",
   "execution_count": null,
   "metadata": {},
   "outputs": [],
   "source": []
  }
 ],
 "metadata": {
  "kernelspec": {
   "display_name": "R",
   "language": "R",
   "name": "ir"
  },
  "language_info": {
   "codemirror_mode": "r",
   "file_extension": ".r",
   "mimetype": "text/x-r-source",
   "name": "R",
   "pygments_lexer": "r",
   "version": "4.0.0"
  }
 },
 "nbformat": 4,
 "nbformat_minor": 4
}
